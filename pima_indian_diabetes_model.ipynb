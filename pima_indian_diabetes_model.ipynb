{
 "cells": [
  {
   "cell_type": "code",
   "execution_count": 23,
   "id": "c74deb28",
   "metadata": {},
   "outputs": [],
   "source": [
    "# first neural network with keras tutorial\n",
    "from numpy import loadtxt\n",
    "from tensorflow.keras.models import Sequential\n",
    "from tensorflow.keras.layers import Dense\n",
    "from tensorflow.keras.models import load_model\n",
    "import pandas as pd\n",
    "import numpy as np"
   ]
  },
  {
   "cell_type": "code",
   "execution_count": 14,
   "id": "c4f67d9f",
   "metadata": {},
   "outputs": [],
   "source": [
    "df1 = pd.read_csv('pima-indians-diabetes.csv')"
   ]
  },
  {
   "cell_type": "code",
   "execution_count": 15,
   "id": "cd0d31c8",
   "metadata": {},
   "outputs": [
    {
     "data": {
      "text/html": [
       "<div>\n",
       "<style scoped>\n",
       "    .dataframe tbody tr th:only-of-type {\n",
       "        vertical-align: middle;\n",
       "    }\n",
       "\n",
       "    .dataframe tbody tr th {\n",
       "        vertical-align: top;\n",
       "    }\n",
       "\n",
       "    .dataframe thead th {\n",
       "        text-align: right;\n",
       "    }\n",
       "</style>\n",
       "<table border=\"1\" class=\"dataframe\">\n",
       "  <thead>\n",
       "    <tr style=\"text-align: right;\">\n",
       "      <th></th>\n",
       "      <th>6</th>\n",
       "      <th>148</th>\n",
       "      <th>72</th>\n",
       "      <th>35</th>\n",
       "      <th>0</th>\n",
       "      <th>33.6</th>\n",
       "      <th>0.627</th>\n",
       "      <th>50</th>\n",
       "      <th>1</th>\n",
       "    </tr>\n",
       "  </thead>\n",
       "  <tbody>\n",
       "    <tr>\n",
       "      <th>0</th>\n",
       "      <td>1</td>\n",
       "      <td>85</td>\n",
       "      <td>66</td>\n",
       "      <td>29</td>\n",
       "      <td>0</td>\n",
       "      <td>26.6</td>\n",
       "      <td>0.351</td>\n",
       "      <td>31</td>\n",
       "      <td>0</td>\n",
       "    </tr>\n",
       "    <tr>\n",
       "      <th>1</th>\n",
       "      <td>8</td>\n",
       "      <td>183</td>\n",
       "      <td>64</td>\n",
       "      <td>0</td>\n",
       "      <td>0</td>\n",
       "      <td>23.3</td>\n",
       "      <td>0.672</td>\n",
       "      <td>32</td>\n",
       "      <td>1</td>\n",
       "    </tr>\n",
       "    <tr>\n",
       "      <th>2</th>\n",
       "      <td>1</td>\n",
       "      <td>89</td>\n",
       "      <td>66</td>\n",
       "      <td>23</td>\n",
       "      <td>94</td>\n",
       "      <td>28.1</td>\n",
       "      <td>0.167</td>\n",
       "      <td>21</td>\n",
       "      <td>0</td>\n",
       "    </tr>\n",
       "    <tr>\n",
       "      <th>3</th>\n",
       "      <td>0</td>\n",
       "      <td>137</td>\n",
       "      <td>40</td>\n",
       "      <td>35</td>\n",
       "      <td>168</td>\n",
       "      <td>43.1</td>\n",
       "      <td>2.288</td>\n",
       "      <td>33</td>\n",
       "      <td>1</td>\n",
       "    </tr>\n",
       "    <tr>\n",
       "      <th>4</th>\n",
       "      <td>5</td>\n",
       "      <td>116</td>\n",
       "      <td>74</td>\n",
       "      <td>0</td>\n",
       "      <td>0</td>\n",
       "      <td>25.6</td>\n",
       "      <td>0.201</td>\n",
       "      <td>30</td>\n",
       "      <td>0</td>\n",
       "    </tr>\n",
       "  </tbody>\n",
       "</table>\n",
       "</div>"
      ],
      "text/plain": [
       "   6  148  72  35    0  33.6  0.627  50  1\n",
       "0  1   85  66  29    0  26.6  0.351  31  0\n",
       "1  8  183  64   0    0  23.3  0.672  32  1\n",
       "2  1   89  66  23   94  28.1  0.167  21  0\n",
       "3  0  137  40  35  168  43.1  2.288  33  1\n",
       "4  5  116  74   0    0  25.6  0.201  30  0"
      ]
     },
     "execution_count": 15,
     "metadata": {},
     "output_type": "execute_result"
    }
   ],
   "source": [
    "df1.head()"
   ]
  },
  {
   "cell_type": "code",
   "execution_count": 2,
   "id": "4a6821c1",
   "metadata": {},
   "outputs": [],
   "source": [
    "# load the dataset\n",
    "dataset = loadtxt('pima-indians-diabetes.csv', delimiter=',')"
   ]
  },
  {
   "cell_type": "code",
   "execution_count": 3,
   "id": "b4364f84",
   "metadata": {},
   "outputs": [],
   "source": [
    "# split into input (X) and output (y) variables\n",
    "X = dataset[:,0:8]\n",
    "y = dataset[:,8]"
   ]
  },
  {
   "cell_type": "code",
   "execution_count": 5,
   "id": "6135c0e9",
   "metadata": {},
   "outputs": [
    {
     "data": {
      "text/plain": [
       "(768, 8)"
      ]
     },
     "execution_count": 5,
     "metadata": {},
     "output_type": "execute_result"
    }
   ],
   "source": [
    "X.shape"
   ]
  },
  {
   "cell_type": "code",
   "execution_count": 6,
   "id": "5fc1e30e",
   "metadata": {},
   "outputs": [
    {
     "data": {
      "text/plain": [
       "(768,)"
      ]
     },
     "execution_count": 6,
     "metadata": {},
     "output_type": "execute_result"
    }
   ],
   "source": [
    "y.shape"
   ]
  },
  {
   "cell_type": "code",
   "execution_count": 7,
   "id": "2926eba0",
   "metadata": {},
   "outputs": [],
   "source": [
    "# define the keras model\n",
    "model = Sequential()\n",
    "model.add(Dense(12, input_shape=(8,), activation='relu'))\n",
    "model.add(Dense(8, activation='relu'))\n",
    "model.add(Dense(1, activation='sigmoid'))"
   ]
  },
  {
   "cell_type": "code",
   "execution_count": 8,
   "id": "6ece3fba",
   "metadata": {},
   "outputs": [],
   "source": [
    "# compile the keras model\n",
    "model.compile(loss='categorical_crossentropy', optimizer='adam', metrics=['accuracy'])"
   ]
  },
  {
   "cell_type": "code",
   "execution_count": 9,
   "id": "32718ac0",
   "metadata": {
    "scrolled": true
   },
   "outputs": [
    {
     "name": "stdout",
     "output_type": "stream",
     "text": [
      "Epoch 1/150\n",
      "77/77 [==============================] - 0s 321us/step - loss: 0.0000e+00 - accuracy: 0.4258\n",
      "Epoch 2/150\n",
      " 1/77 [..............................] - ETA: 0s - loss: 0.0000e+00 - accuracy: 0.5000"
     ]
    },
    {
     "name": "stderr",
     "output_type": "stream",
     "text": [
      "2022-09-09 11:51:09.940293: W tensorflow/core/platform/profile_utils/cpu_utils.cc:128] Failed to get CPU frequency: 0 Hz\n"
     ]
    },
    {
     "name": "stdout",
     "output_type": "stream",
     "text": [
      "77/77 [==============================] - 0s 293us/step - loss: 0.0000e+00 - accuracy: 0.6172\n",
      "Epoch 3/150\n",
      "77/77 [==============================] - 0s 300us/step - loss: 0.0000e+00 - accuracy: 0.6549\n",
      "Epoch 4/150\n",
      "77/77 [==============================] - 0s 299us/step - loss: 0.0000e+00 - accuracy: 0.6510\n",
      "Epoch 5/150\n",
      "77/77 [==============================] - 0s 293us/step - loss: 0.0000e+00 - accuracy: 0.6510\n",
      "Epoch 6/150\n",
      "77/77 [==============================] - 0s 292us/step - loss: 0.0000e+00 - accuracy: 0.6510\n",
      "Epoch 7/150\n",
      "77/77 [==============================] - 0s 289us/step - loss: 0.0000e+00 - accuracy: 0.6510\n",
      "Epoch 8/150\n",
      "77/77 [==============================] - 0s 292us/step - loss: 0.0000e+00 - accuracy: 0.6510\n",
      "Epoch 9/150\n",
      "77/77 [==============================] - 0s 279us/step - loss: 0.0000e+00 - accuracy: 0.6510\n",
      "Epoch 10/150\n",
      "77/77 [==============================] - 0s 268us/step - loss: 0.0000e+00 - accuracy: 0.6510\n",
      "Epoch 11/150\n",
      "77/77 [==============================] - 0s 282us/step - loss: 0.0000e+00 - accuracy: 0.6510\n",
      "Epoch 12/150\n",
      "77/77 [==============================] - 0s 373us/step - loss: 0.0000e+00 - accuracy: 0.6510\n",
      "Epoch 13/150\n",
      "77/77 [==============================] - 0s 287us/step - loss: 0.0000e+00 - accuracy: 0.6510\n",
      "Epoch 14/150\n",
      "77/77 [==============================] - 0s 288us/step - loss: 0.0000e+00 - accuracy: 0.6510\n",
      "Epoch 15/150\n",
      "77/77 [==============================] - 0s 291us/step - loss: 0.0000e+00 - accuracy: 0.6510\n",
      "Epoch 16/150\n",
      "77/77 [==============================] - 0s 293us/step - loss: 0.0000e+00 - accuracy: 0.6510\n",
      "Epoch 17/150\n",
      "77/77 [==============================] - 0s 292us/step - loss: 0.0000e+00 - accuracy: 0.6510\n",
      "Epoch 18/150\n",
      "77/77 [==============================] - 0s 290us/step - loss: 0.0000e+00 - accuracy: 0.6510\n",
      "Epoch 19/150\n",
      "77/77 [==============================] - 0s 292us/step - loss: 0.0000e+00 - accuracy: 0.6510\n",
      "Epoch 20/150\n",
      "77/77 [==============================] - 0s 296us/step - loss: 0.0000e+00 - accuracy: 0.6510\n",
      "Epoch 21/150\n",
      "77/77 [==============================] - 0s 291us/step - loss: 0.0000e+00 - accuracy: 0.6510\n",
      "Epoch 22/150\n",
      "77/77 [==============================] - 0s 290us/step - loss: 0.0000e+00 - accuracy: 0.6510\n",
      "Epoch 23/150\n",
      "77/77 [==============================] - 0s 294us/step - loss: 0.0000e+00 - accuracy: 0.6510\n",
      "Epoch 24/150\n",
      "77/77 [==============================] - 0s 295us/step - loss: 0.0000e+00 - accuracy: 0.6510\n",
      "Epoch 25/150\n",
      "77/77 [==============================] - 0s 292us/step - loss: 0.0000e+00 - accuracy: 0.6510\n",
      "Epoch 26/150\n",
      "77/77 [==============================] - 0s 293us/step - loss: 0.0000e+00 - accuracy: 0.6510\n",
      "Epoch 27/150\n",
      "77/77 [==============================] - 0s 291us/step - loss: 0.0000e+00 - accuracy: 0.6510\n",
      "Epoch 28/150\n",
      "77/77 [==============================] - 0s 290us/step - loss: 0.0000e+00 - accuracy: 0.6510\n",
      "Epoch 29/150\n",
      "77/77 [==============================] - 0s 296us/step - loss: 0.0000e+00 - accuracy: 0.6510\n",
      "Epoch 30/150\n",
      "77/77 [==============================] - 0s 294us/step - loss: 0.0000e+00 - accuracy: 0.6510\n",
      "Epoch 31/150\n",
      "77/77 [==============================] - 0s 289us/step - loss: 0.0000e+00 - accuracy: 0.6510\n",
      "Epoch 32/150\n",
      "77/77 [==============================] - 0s 294us/step - loss: 0.0000e+00 - accuracy: 0.6510\n",
      "Epoch 33/150\n",
      "77/77 [==============================] - 0s 289us/step - loss: 0.0000e+00 - accuracy: 0.6510\n",
      "Epoch 34/150\n",
      "77/77 [==============================] - 0s 307us/step - loss: 0.0000e+00 - accuracy: 0.6510\n",
      "Epoch 35/150\n",
      "77/77 [==============================] - 0s 290us/step - loss: 0.0000e+00 - accuracy: 0.6510\n",
      "Epoch 36/150\n",
      "77/77 [==============================] - 0s 292us/step - loss: 0.0000e+00 - accuracy: 0.6510\n",
      "Epoch 37/150\n",
      "77/77 [==============================] - 0s 295us/step - loss: 0.0000e+00 - accuracy: 0.6510\n",
      "Epoch 38/150\n",
      "77/77 [==============================] - 0s 295us/step - loss: 0.0000e+00 - accuracy: 0.6510\n",
      "Epoch 39/150\n",
      "77/77 [==============================] - 0s 295us/step - loss: 0.0000e+00 - accuracy: 0.6510\n",
      "Epoch 40/150\n",
      "77/77 [==============================] - 0s 297us/step - loss: 0.0000e+00 - accuracy: 0.6510\n",
      "Epoch 41/150\n",
      "77/77 [==============================] - 0s 294us/step - loss: 0.0000e+00 - accuracy: 0.6510\n",
      "Epoch 42/150\n",
      "77/77 [==============================] - 0s 299us/step - loss: 0.0000e+00 - accuracy: 0.6510\n",
      "Epoch 43/150\n",
      "77/77 [==============================] - 0s 306us/step - loss: 0.0000e+00 - accuracy: 0.6510\n",
      "Epoch 44/150\n",
      "77/77 [==============================] - 0s 300us/step - loss: 0.0000e+00 - accuracy: 0.6510\n",
      "Epoch 45/150\n",
      "77/77 [==============================] - 0s 299us/step - loss: 0.0000e+00 - accuracy: 0.6510\n",
      "Epoch 46/150\n",
      "77/77 [==============================] - 0s 292us/step - loss: 0.0000e+00 - accuracy: 0.6510\n",
      "Epoch 47/150\n",
      "77/77 [==============================] - 0s 300us/step - loss: 0.0000e+00 - accuracy: 0.6510\n",
      "Epoch 48/150\n",
      "77/77 [==============================] - 0s 300us/step - loss: 0.0000e+00 - accuracy: 0.6510\n",
      "Epoch 49/150\n",
      "77/77 [==============================] - 0s 298us/step - loss: 0.0000e+00 - accuracy: 0.6510\n",
      "Epoch 50/150\n",
      "77/77 [==============================] - 0s 297us/step - loss: 0.0000e+00 - accuracy: 0.6510\n",
      "Epoch 51/150\n",
      "77/77 [==============================] - 0s 295us/step - loss: 0.0000e+00 - accuracy: 0.6510\n",
      "Epoch 52/150\n",
      "77/77 [==============================] - 0s 296us/step - loss: 0.0000e+00 - accuracy: 0.6510\n",
      "Epoch 53/150\n",
      "77/77 [==============================] - 0s 296us/step - loss: 0.0000e+00 - accuracy: 0.6510\n",
      "Epoch 54/150\n",
      "77/77 [==============================] - 0s 294us/step - loss: 0.0000e+00 - accuracy: 0.6510\n",
      "Epoch 55/150\n",
      "77/77 [==============================] - 0s 299us/step - loss: 0.0000e+00 - accuracy: 0.6510\n",
      "Epoch 56/150\n",
      "77/77 [==============================] - 0s 293us/step - loss: 0.0000e+00 - accuracy: 0.6510\n",
      "Epoch 57/150\n",
      "77/77 [==============================] - 0s 294us/step - loss: 0.0000e+00 - accuracy: 0.6510\n",
      "Epoch 58/150\n",
      "77/77 [==============================] - 0s 298us/step - loss: 0.0000e+00 - accuracy: 0.6510\n",
      "Epoch 59/150\n",
      "77/77 [==============================] - 0s 296us/step - loss: 0.0000e+00 - accuracy: 0.6510\n",
      "Epoch 60/150\n",
      "77/77 [==============================] - 0s 294us/step - loss: 0.0000e+00 - accuracy: 0.6510\n",
      "Epoch 61/150\n",
      "77/77 [==============================] - 0s 299us/step - loss: 0.0000e+00 - accuracy: 0.6510\n",
      "Epoch 62/150\n",
      "77/77 [==============================] - 0s 295us/step - loss: 0.0000e+00 - accuracy: 0.6510\n",
      "Epoch 63/150\n",
      "77/77 [==============================] - 0s 307us/step - loss: 0.0000e+00 - accuracy: 0.6510\n",
      "Epoch 64/150\n",
      "77/77 [==============================] - 0s 300us/step - loss: 0.0000e+00 - accuracy: 0.6510\n",
      "Epoch 65/150\n",
      "77/77 [==============================] - 0s 304us/step - loss: 0.0000e+00 - accuracy: 0.6510\n",
      "Epoch 66/150\n",
      "77/77 [==============================] - 0s 306us/step - loss: 0.0000e+00 - accuracy: 0.6510\n",
      "Epoch 67/150\n",
      "77/77 [==============================] - 0s 304us/step - loss: 0.0000e+00 - accuracy: 0.6510\n",
      "Epoch 68/150\n",
      "77/77 [==============================] - 0s 302us/step - loss: 0.0000e+00 - accuracy: 0.6510\n",
      "Epoch 69/150\n",
      "77/77 [==============================] - 0s 279us/step - loss: 0.0000e+00 - accuracy: 0.6510\n",
      "Epoch 70/150\n",
      "77/77 [==============================] - 0s 304us/step - loss: 0.0000e+00 - accuracy: 0.6510\n",
      "Epoch 71/150\n",
      "77/77 [==============================] - 0s 299us/step - loss: 0.0000e+00 - accuracy: 0.6510\n",
      "Epoch 72/150\n",
      "77/77 [==============================] - 0s 299us/step - loss: 0.0000e+00 - accuracy: 0.6510\n",
      "Epoch 73/150\n",
      "77/77 [==============================] - 0s 299us/step - loss: 0.0000e+00 - accuracy: 0.6510\n",
      "Epoch 74/150\n",
      "77/77 [==============================] - 0s 294us/step - loss: 0.0000e+00 - accuracy: 0.6510\n",
      "Epoch 75/150\n",
      "77/77 [==============================] - 0s 289us/step - loss: 0.0000e+00 - accuracy: 0.6510\n",
      "Epoch 76/150\n",
      "77/77 [==============================] - 0s 295us/step - loss: 0.0000e+00 - accuracy: 0.6510\n",
      "Epoch 77/150\n",
      "77/77 [==============================] - 0s 315us/step - loss: 0.0000e+00 - accuracy: 0.6510\n",
      "Epoch 78/150\n",
      "77/77 [==============================] - 0s 297us/step - loss: 0.0000e+00 - accuracy: 0.6510\n",
      "Epoch 79/150\n",
      "77/77 [==============================] - 0s 292us/step - loss: 0.0000e+00 - accuracy: 0.6510\n",
      "Epoch 80/150\n",
      "77/77 [==============================] - 0s 302us/step - loss: 0.0000e+00 - accuracy: 0.6510\n",
      "Epoch 81/150\n",
      "77/77 [==============================] - 0s 295us/step - loss: 0.0000e+00 - accuracy: 0.6510\n",
      "Epoch 82/150\n",
      "77/77 [==============================] - 0s 293us/step - loss: 0.0000e+00 - accuracy: 0.6510\n",
      "Epoch 83/150\n",
      "77/77 [==============================] - 0s 291us/step - loss: 0.0000e+00 - accuracy: 0.6510\n",
      "Epoch 84/150\n",
      "77/77 [==============================] - 0s 292us/step - loss: 0.0000e+00 - accuracy: 0.6510\n",
      "Epoch 85/150\n",
      "77/77 [==============================] - 0s 289us/step - loss: 0.0000e+00 - accuracy: 0.6510\n",
      "Epoch 86/150\n",
      "77/77 [==============================] - 0s 288us/step - loss: 0.0000e+00 - accuracy: 0.6510\n",
      "Epoch 87/150\n",
      "77/77 [==============================] - 0s 297us/step - loss: 0.0000e+00 - accuracy: 0.6510\n",
      "Epoch 88/150\n",
      "77/77 [==============================] - 0s 294us/step - loss: 0.0000e+00 - accuracy: 0.6510\n",
      "Epoch 89/150\n",
      "77/77 [==============================] - 0s 288us/step - loss: 0.0000e+00 - accuracy: 0.6510\n",
      "Epoch 90/150\n",
      "77/77 [==============================] - 0s 291us/step - loss: 0.0000e+00 - accuracy: 0.6510\n",
      "Epoch 91/150\n",
      "77/77 [==============================] - 0s 288us/step - loss: 0.0000e+00 - accuracy: 0.6510\n",
      "Epoch 92/150\n",
      "77/77 [==============================] - 0s 289us/step - loss: 0.0000e+00 - accuracy: 0.6510\n",
      "Epoch 93/150\n",
      "77/77 [==============================] - 0s 298us/step - loss: 0.0000e+00 - accuracy: 0.6510\n",
      "Epoch 94/150\n",
      "77/77 [==============================] - 0s 289us/step - loss: 0.0000e+00 - accuracy: 0.6510\n",
      "Epoch 95/150\n",
      "77/77 [==============================] - 0s 293us/step - loss: 0.0000e+00 - accuracy: 0.6510\n",
      "Epoch 96/150\n",
      "77/77 [==============================] - 0s 295us/step - loss: 0.0000e+00 - accuracy: 0.6510\n",
      "Epoch 97/150\n",
      "77/77 [==============================] - 0s 285us/step - loss: 0.0000e+00 - accuracy: 0.6510\n",
      "Epoch 98/150\n",
      "77/77 [==============================] - 0s 297us/step - loss: 0.0000e+00 - accuracy: 0.6510\n",
      "Epoch 99/150\n",
      "77/77 [==============================] - 0s 296us/step - loss: 0.0000e+00 - accuracy: 0.6510\n",
      "Epoch 100/150\n",
      "77/77 [==============================] - 0s 291us/step - loss: 0.0000e+00 - accuracy: 0.6510\n",
      "Epoch 101/150\n",
      "77/77 [==============================] - 0s 296us/step - loss: 0.0000e+00 - accuracy: 0.6510\n",
      "Epoch 102/150\n",
      "77/77 [==============================] - 0s 299us/step - loss: 0.0000e+00 - accuracy: 0.6510\n",
      "Epoch 103/150\n",
      "77/77 [==============================] - 0s 368us/step - loss: 0.0000e+00 - accuracy: 0.6510\n",
      "Epoch 104/150\n",
      "77/77 [==============================] - 0s 297us/step - loss: 0.0000e+00 - accuracy: 0.6510\n",
      "Epoch 105/150\n",
      "77/77 [==============================] - 0s 293us/step - loss: 0.0000e+00 - accuracy: 0.6510\n",
      "Epoch 106/150\n",
      "77/77 [==============================] - 0s 297us/step - loss: 0.0000e+00 - accuracy: 0.6510\n",
      "Epoch 107/150\n",
      "77/77 [==============================] - 0s 293us/step - loss: 0.0000e+00 - accuracy: 0.6510\n",
      "Epoch 108/150\n",
      "77/77 [==============================] - 0s 292us/step - loss: 0.0000e+00 - accuracy: 0.6510\n",
      "Epoch 109/150\n",
      "77/77 [==============================] - 0s 294us/step - loss: 0.0000e+00 - accuracy: 0.6510\n",
      "Epoch 110/150\n",
      "77/77 [==============================] - 0s 294us/step - loss: 0.0000e+00 - accuracy: 0.6510\n",
      "Epoch 111/150\n",
      "77/77 [==============================] - 0s 291us/step - loss: 0.0000e+00 - accuracy: 0.6510\n",
      "Epoch 112/150\n",
      "77/77 [==============================] - 0s 304us/step - loss: 0.0000e+00 - accuracy: 0.6510\n",
      "Epoch 113/150\n",
      "77/77 [==============================] - 0s 293us/step - loss: 0.0000e+00 - accuracy: 0.6510\n",
      "Epoch 114/150\n",
      "77/77 [==============================] - 0s 289us/step - loss: 0.0000e+00 - accuracy: 0.6510\n",
      "Epoch 115/150\n",
      "77/77 [==============================] - 0s 294us/step - loss: 0.0000e+00 - accuracy: 0.6510\n",
      "Epoch 116/150\n",
      "77/77 [==============================] - 0s 292us/step - loss: 0.0000e+00 - accuracy: 0.6510\n",
      "Epoch 117/150\n",
      "77/77 [==============================] - 0s 303us/step - loss: 0.0000e+00 - accuracy: 0.6510\n",
      "Epoch 118/150\n",
      "77/77 [==============================] - 0s 298us/step - loss: 0.0000e+00 - accuracy: 0.6510\n",
      "Epoch 119/150\n",
      "77/77 [==============================] - 0s 293us/step - loss: 0.0000e+00 - accuracy: 0.6510\n",
      "Epoch 120/150\n",
      "77/77 [==============================] - 0s 300us/step - loss: 0.0000e+00 - accuracy: 0.6510\n",
      "Epoch 121/150\n",
      "77/77 [==============================] - 0s 290us/step - loss: 0.0000e+00 - accuracy: 0.6510\n",
      "Epoch 122/150\n",
      "77/77 [==============================] - 0s 303us/step - loss: 0.0000e+00 - accuracy: 0.6510\n",
      "Epoch 123/150\n",
      "77/77 [==============================] - 0s 301us/step - loss: 0.0000e+00 - accuracy: 0.6510\n",
      "Epoch 124/150\n",
      "77/77 [==============================] - 0s 385us/step - loss: 0.0000e+00 - accuracy: 0.6510\n",
      "Epoch 125/150\n",
      "77/77 [==============================] - 0s 371us/step - loss: 0.0000e+00 - accuracy: 0.6510\n",
      "Epoch 126/150\n",
      "77/77 [==============================] - 0s 301us/step - loss: 0.0000e+00 - accuracy: 0.6510\n",
      "Epoch 127/150\n",
      "77/77 [==============================] - 0s 297us/step - loss: 0.0000e+00 - accuracy: 0.6510\n",
      "Epoch 128/150\n",
      "77/77 [==============================] - 0s 300us/step - loss: 0.0000e+00 - accuracy: 0.6510\n",
      "Epoch 129/150\n",
      "77/77 [==============================] - 0s 288us/step - loss: 0.0000e+00 - accuracy: 0.6510\n",
      "Epoch 130/150\n",
      "77/77 [==============================] - 0s 297us/step - loss: 0.0000e+00 - accuracy: 0.6510\n",
      "Epoch 131/150\n",
      "77/77 [==============================] - 0s 298us/step - loss: 0.0000e+00 - accuracy: 0.6510\n",
      "Epoch 132/150\n",
      "77/77 [==============================] - 0s 294us/step - loss: 0.0000e+00 - accuracy: 0.6510\n",
      "Epoch 133/150\n",
      "77/77 [==============================] - 0s 298us/step - loss: 0.0000e+00 - accuracy: 0.6510\n",
      "Epoch 134/150\n",
      "77/77 [==============================] - 0s 294us/step - loss: 0.0000e+00 - accuracy: 0.6510\n",
      "Epoch 135/150\n",
      "77/77 [==============================] - 0s 296us/step - loss: 0.0000e+00 - accuracy: 0.6510\n",
      "Epoch 136/150\n",
      "77/77 [==============================] - 0s 296us/step - loss: 0.0000e+00 - accuracy: 0.6510\n",
      "Epoch 137/150\n",
      "77/77 [==============================] - 0s 292us/step - loss: 0.0000e+00 - accuracy: 0.6510\n",
      "Epoch 138/150\n",
      "77/77 [==============================] - 0s 299us/step - loss: 0.0000e+00 - accuracy: 0.6510\n",
      "Epoch 139/150\n",
      "77/77 [==============================] - 0s 292us/step - loss: 0.0000e+00 - accuracy: 0.6510\n",
      "Epoch 140/150\n",
      "77/77 [==============================] - 0s 292us/step - loss: 0.0000e+00 - accuracy: 0.6510\n",
      "Epoch 141/150\n",
      "77/77 [==============================] - 0s 295us/step - loss: 0.0000e+00 - accuracy: 0.6510\n",
      "Epoch 142/150\n",
      "77/77 [==============================] - 0s 290us/step - loss: 0.0000e+00 - accuracy: 0.6510\n",
      "Epoch 143/150\n",
      "77/77 [==============================] - 0s 297us/step - loss: 0.0000e+00 - accuracy: 0.6510\n",
      "Epoch 144/150\n",
      "77/77 [==============================] - 0s 297us/step - loss: 0.0000e+00 - accuracy: 0.6510\n",
      "Epoch 145/150\n",
      "77/77 [==============================] - 0s 289us/step - loss: 0.0000e+00 - accuracy: 0.6510\n",
      "Epoch 146/150\n",
      "77/77 [==============================] - 0s 304us/step - loss: 0.0000e+00 - accuracy: 0.6510\n",
      "Epoch 147/150\n",
      "77/77 [==============================] - 0s 302us/step - loss: 0.0000e+00 - accuracy: 0.6510\n",
      "Epoch 148/150\n",
      "77/77 [==============================] - 0s 295us/step - loss: 0.0000e+00 - accuracy: 0.6510\n",
      "Epoch 149/150\n",
      "77/77 [==============================] - 0s 294us/step - loss: 0.0000e+00 - accuracy: 0.6510\n",
      "Epoch 150/150\n",
      "77/77 [==============================] - 0s 294us/step - loss: 0.0000e+00 - accuracy: 0.6510\n"
     ]
    },
    {
     "data": {
      "text/plain": [
       "<keras.callbacks.History at 0x28812cbb0>"
      ]
     },
     "execution_count": 9,
     "metadata": {},
     "output_type": "execute_result"
    }
   ],
   "source": [
    "# fit the keras model on the dataset\n",
    "model.fit(X, y, epochs=150, batch_size=10)"
   ]
  },
  {
   "cell_type": "code",
   "execution_count": 11,
   "id": "32c34bc4",
   "metadata": {},
   "outputs": [
    {
     "name": "stdout",
     "output_type": "stream",
     "text": [
      "24/24 [==============================] - 0s 584us/step - loss: 0.0000e+00 - accuracy: 0.6510\n",
      "Accuracy: 65.10\n"
     ]
    }
   ],
   "source": [
    "# evaluate the keras model\n",
    "_, accuracy = model.evaluate(X, y)\n",
    "print('Accuracy: %.2f' % (accuracy*100))"
   ]
  },
  {
   "cell_type": "code",
   "execution_count": 12,
   "id": "d7135d86",
   "metadata": {},
   "outputs": [
    {
     "name": "stdout",
     "output_type": "stream",
     "text": [
      "INFO:tensorflow:Assets written to: pima_indian_model/assets\n"
     ]
    },
    {
     "name": "stderr",
     "output_type": "stream",
     "text": [
      "2022-09-09 11:51:37.238508: W tensorflow/python/util/util.cc:368] Sets are not currently considered sequences, but this may change in the future, so consider avoiding using them.\n"
     ]
    }
   ],
   "source": [
    "model.save('pima_indian_model')"
   ]
  },
  {
   "cell_type": "code",
   "execution_count": 16,
   "id": "625a2307",
   "metadata": {},
   "outputs": [
    {
     "name": "stdout",
     "output_type": "stream",
     "text": [
      "Model: \"sequential\"\n",
      "_________________________________________________________________\n",
      " Layer (type)                Output Shape              Param #   \n",
      "=================================================================\n",
      " dense (Dense)               (None, 12)                108       \n",
      "                                                                 \n",
      " dense_1 (Dense)             (None, 8)                 104       \n",
      "                                                                 \n",
      " dense_2 (Dense)             (None, 1)                 9         \n",
      "                                                                 \n",
      "=================================================================\n",
      "Total params: 221\n",
      "Trainable params: 221\n",
      "Non-trainable params: 0\n",
      "_________________________________________________________________\n"
     ]
    }
   ],
   "source": [
    "model = load_model('model')\n",
    "# print summary\n",
    "model.summary()"
   ]
  },
  {
   "cell_type": "code",
   "execution_count": 28,
   "id": "9b2b4c6f",
   "metadata": {},
   "outputs": [],
   "source": [
    "x_new = pd.Series([6, 148, 72, 35, 0, 33.6, 0.627, 50]).to_numpy()"
   ]
  },
  {
   "cell_type": "code",
   "execution_count": 31,
   "id": "5324476f",
   "metadata": {},
   "outputs": [],
   "source": [
    "x_new = x_new.reshape((8, 1))"
   ]
  },
  {
   "cell_type": "code",
   "execution_count": 32,
   "id": "b37ea7da",
   "metadata": {},
   "outputs": [
    {
     "data": {
      "text/plain": [
       "(8, 1)"
      ]
     },
     "execution_count": 32,
     "metadata": {},
     "output_type": "execute_result"
    }
   ],
   "source": [
    "x_new.shape"
   ]
  },
  {
   "cell_type": "code",
   "execution_count": null,
   "id": "426a571f",
   "metadata": {},
   "outputs": [],
   "source": []
  }
 ],
 "metadata": {
  "kernelspec": {
   "display_name": "Python 3 (ipykernel)",
   "language": "python",
   "name": "python3"
  },
  "language_info": {
   "codemirror_mode": {
    "name": "ipython",
    "version": 3
   },
   "file_extension": ".py",
   "mimetype": "text/x-python",
   "name": "python",
   "nbconvert_exporter": "python",
   "pygments_lexer": "ipython3",
   "version": "3.9.13"
  }
 },
 "nbformat": 4,
 "nbformat_minor": 5
}
